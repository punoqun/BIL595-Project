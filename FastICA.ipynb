{
 "cells": [
  {
   "cell_type": "code",
   "execution_count": 1,
   "metadata": {
    "scrolled": false
   },
   "outputs": [
    {
     "name": "stderr",
     "output_type": "stream",
     "text": [
      "Found local copy...\n",
      "Loading...\n",
      "Done!\n"
     ]
    }
   ],
   "source": [
    "from tdc.multi_pred import DrugRes\n",
    "data = DrugRes(name = 'GDSC2')\n",
    "df = data.get_data()\n",
    "splits = data.get_split()"
   ]
  },
  {
   "cell_type": "code",
   "execution_count": 2,
   "metadata": {},
   "outputs": [],
   "source": [
    "from rdkit.Chem import AllChem\n",
    "from rdkit.Chem import MolFromSmiles\n",
    "import numpy as np\n",
    "from sklearn.decomposition import FastICA  \n",
    "from sklearn.model_selection import KFold"
   ]
  },
  {
   "cell_type": "code",
   "execution_count": 5,
   "metadata": {},
   "outputs": [],
   "source": [
    "cells = np.zeros((len(df['Cell Line']),len(df['Cell Line'].iloc[0])))\n",
    "for i in range(len(df['Cell Line'])):\n",
    "    cells[i] = df['Cell Line'].iloc[i]"
   ]
  },
  {
   "cell_type": "code",
   "execution_count": 6,
   "metadata": {},
   "outputs": [],
   "source": [
    "import pandas as pd"
   ]
  },
  {
   "cell_type": "code",
   "execution_count": 7,
   "metadata": {},
   "outputs": [],
   "source": [
    "morgans = []\n",
    "for i in range(len(df['Drug'])):\n",
    "    ecfp = AllChem.GetMorganFingerprintAsBitVect(MolFromSmiles(df.iloc[i]['Drug']), 3, nBits=512,useFeatures=True,\n",
    "                                             useChirality=True).ToBitString()\n",
    "    ecfp = np.fromstring(ecfp,'u1') - ord('0')\n",
    "    morgans.append(ecfp)"
   ]
  },
  {
   "cell_type": "code",
   "execution_count": 9,
   "metadata": {},
   "outputs": [],
   "source": [
    "y = np.asarray(df['Y'])\n",
    "cells = np.asarray(cells)\n",
    "morgans = np.asarray(morgans)"
   ]
  },
  {
   "cell_type": "code",
   "execution_count": 10,
   "metadata": {
    "scrolled": true
   },
   "outputs": [
    {
     "name": "stdout",
     "output_type": "stream",
     "text": [
      "KFold(n_splits=10, random_state=420, shuffle=True)\n",
      "TRAIN: [    0     1     2 ... 92699 92700 92702] TEST: [   17    29    38 ... 92692 92696 92701]\n",
      "TRAIN: [    0     1     2 ... 92700 92701 92702] TEST: [    7    21    48 ... 92687 92689 92699]\n",
      "TRAIN: [    2     5     6 ... 92700 92701 92702] TEST: [    0     1     3 ... 92679 92688 92698]\n",
      "TRAIN: [    0     1     2 ... 92700 92701 92702] TEST: [   16    22    23 ... 92677 92683 92693]\n",
      "TRAIN: [    0     1     2 ... 92700 92701 92702] TEST: [   19    24    63 ... 92682 92690 92697]\n",
      "TRAIN: [    0     1     3 ... 92700 92701 92702] TEST: [    2     6     8 ... 92674 92675 92684]\n",
      "TRAIN: [    0     1     2 ... 92700 92701 92702] TEST: [    9    11    20 ... 92648 92685 92695]\n",
      "TRAIN: [    0     1     2 ... 92699 92700 92701] TEST: [   10    12    35 ... 92657 92694 92702]\n",
      "TRAIN: [    0     1     2 ... 92699 92701 92702] TEST: [    5    18    28 ... 92665 92672 92700]\n",
      "TRAIN: [    0     1     2 ... 92700 92701 92702] TEST: [   13    15    30 ... 92650 92667 92691]\n"
     ]
    }
   ],
   "source": [
    "kf = KFold(n_splits=10,random_state=420, shuffle=True)\n",
    "kf.get_n_splits(morgans)\n",
    "\n",
    "print(kf)\n",
    "fold = 0\n",
    "for train_index, test_index in kf.split(morgans):\n",
    "    print(\"TRAIN:\", train_index, \"TEST:\", test_index)\n",
    "    morgan_train, morgan_test = morgans[train_index], morgans[test_index]\n",
    "#     cells_train, cells_test = cells[train_index], cells[test_index]\n",
    "#     pca_obj = FastICA(n_components=256).fit(cells_train)\n",
    "#     pcad_cells_train = pca_obj.transform(cells_train)\n",
    "#     pcad_cells_test = pca_obj.transform(cells_test)\n",
    "    y_train, y_test = y[train_index], y[test_index]\n",
    "    \n",
    "    pd.DataFrame(morgan_train).to_csv('sparse/morgan_'+str(fold)+'_train.csv',index=False)\n",
    "#     pd.DataFrame(pcad_cells_train).to_csv('sparse/pcad_cells_'+str(fold)+'_train.csv',index=False)\n",
    "#     pd.DataFrame(y_train).to_csv('sparse/y_train_'+str(fold)+'.csv',index=False)\n",
    "    \n",
    "    pd.DataFrame(morgan_test).to_csv('sparse/morgan_'+str(fold)+'_test.csv',index=False)\n",
    "#     pd.DataFrame(pcad_cells_test).to_csv('sparse/pcad_cells_'+str(fold)+'_test.csv',index=False)\n",
    "#     pd.DataFrame(y_test).to_csv('sparse/y_test_'+str(fold)+'.csv',index=False)\n",
    "    fold = fold + 1\n",
    "    \n"
   ]
  },
  {
   "cell_type": "code",
   "execution_count": null,
   "metadata": {},
   "outputs": [],
   "source": [
    "morgan_train.shape"
   ]
  },
  {
   "cell_type": "code",
   "execution_count": 30,
   "metadata": {},
   "outputs": [
    {
     "name": "stdout",
     "output_type": "stream",
     "text": [
      "[0 0 0 ... 0 0 0]\n"
     ]
    },
    {
     "name": "stderr",
     "output_type": "stream",
     "text": [
      "<ipython-input-30-fad640ecced2>:1: DeprecationWarning: The binary mode of fromstring is deprecated, as it behaves surprisingly on unicode inputs. Use frombuffer instead\n",
      "  print(np.fromstring(ecfp,'u1') - ord('0'))\n"
     ]
    }
   ],
   "source": [
    "print(np.fromstring(ecfp,'u1') - ord('0'))"
   ]
  },
  {
   "cell_type": "code",
   "execution_count": null,
   "metadata": {},
   "outputs": [],
   "source": []
  }
 ],
 "metadata": {
  "kernelspec": {
   "display_name": "Python 3",
   "language": "python",
   "name": "python3"
  },
  "language_info": {
   "codemirror_mode": {
    "name": "ipython",
    "version": 3
   },
   "file_extension": ".py",
   "mimetype": "text/x-python",
   "name": "python",
   "nbconvert_exporter": "python",
   "pygments_lexer": "ipython3",
   "version": "3.8.5"
  }
 },
 "nbformat": 4,
 "nbformat_minor": 4
}
