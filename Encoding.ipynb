{
 "cells": [
  {
   "cell_type": "code",
   "execution_count": 1,
   "metadata": {
    "scrolled": false
   },
   "outputs": [
    {
     "name": "stderr",
     "output_type": "stream",
     "text": [
      "Found local copy...\n",
      "Loading...\n",
      "Done!\n"
     ]
    }
   ],
   "source": [
    "from tdc.multi_pred import DrugRes\n",
    "data = DrugRes(name = 'GDSC2')\n",
    "df = data.get_data()\n",
    "splits = data.get_split()"
   ]
  },
  {
   "cell_type": "code",
   "execution_count": 47,
   "metadata": {},
   "outputs": [],
   "source": [
    "from rdkit.Chem import AllChem\n",
    "from rdkit.Chem import MolFromSmiles\n",
    "import numpy as np\n",
    "from sklearn.decomposition import FastICA  \n",
    "from sklearn.model_selection import KFold\n",
    "from sklearn.preprocessing import LabelBinarizer"
   ]
  },
  {
   "cell_type": "code",
   "execution_count": 48,
   "metadata": {
    "scrolled": true
   },
   "outputs": [],
   "source": [
    "dataa = LabelBinarizer().fit_transform(np.asanyarray(df['Cell Line_ID']).reshape(-1,1))"
   ]
  },
  {
   "cell_type": "code",
   "execution_count": 58,
   "metadata": {},
   "outputs": [
    {
     "data": {
      "text/html": [
       "<div>\n",
       "<style scoped>\n",
       "    .dataframe tbody tr th:only-of-type {\n",
       "        vertical-align: middle;\n",
       "    }\n",
       "\n",
       "    .dataframe tbody tr th {\n",
       "        vertical-align: top;\n",
       "    }\n",
       "\n",
       "    .dataframe thead th {\n",
       "        text-align: right;\n",
       "    }\n",
       "</style>\n",
       "<table border=\"1\" class=\"dataframe\">\n",
       "  <thead>\n",
       "    <tr style=\"text-align: right;\">\n",
       "      <th></th>\n",
       "      <th>Drug_ID</th>\n",
       "      <th>Drug</th>\n",
       "      <th>Cell Line_ID</th>\n",
       "      <th>Cell Line</th>\n",
       "      <th>Y</th>\n",
       "    </tr>\n",
       "  </thead>\n",
       "  <tbody>\n",
       "    <tr>\n",
       "      <th>0</th>\n",
       "      <td>Camptothecin</td>\n",
       "      <td>CC[C@@]1(C2=C(COC1=O)C(=O)N3CC4=CC5=CC=CC=C5N=...</td>\n",
       "      <td>HCC1954</td>\n",
       "      <td>[8.54820830373167, 2.5996072676336297, 10.3759...</td>\n",
       "      <td>-0.251083</td>\n",
       "    </tr>\n",
       "    <tr>\n",
       "      <th>1</th>\n",
       "      <td>Camptothecin</td>\n",
       "      <td>CC[C@@]1(C2=C(COC1=O)C(=O)N3CC4=CC5=CC=CC=C5N=...</td>\n",
       "      <td>HCC1143</td>\n",
       "      <td>[7.58193774904993, 2.81430257671695, 10.363326...</td>\n",
       "      <td>1.343315</td>\n",
       "    </tr>\n",
       "    <tr>\n",
       "      <th>2</th>\n",
       "      <td>Camptothecin</td>\n",
       "      <td>CC[C@@]1(C2=C(COC1=O)C(=O)N3CC4=CC5=CC=CC=C5N=...</td>\n",
       "      <td>HCC1187</td>\n",
       "      <td>[9.013252540641961, 2.9520929896608, 9.3474286...</td>\n",
       "      <td>1.736985</td>\n",
       "    </tr>\n",
       "    <tr>\n",
       "      <th>3</th>\n",
       "      <td>Camptothecin</td>\n",
       "      <td>CC[C@@]1(C2=C(COC1=O)C(=O)N3CC4=CC5=CC=CC=C5N=...</td>\n",
       "      <td>HCC1395</td>\n",
       "      <td>[7.4351511634642105, 2.8325700611437004, 10.34...</td>\n",
       "      <td>-2.309078</td>\n",
       "    </tr>\n",
       "    <tr>\n",
       "      <th>4</th>\n",
       "      <td>Camptothecin</td>\n",
       "      <td>CC[C@@]1(C2=C(COC1=O)C(=O)N3CC4=CC5=CC=CC=C5N=...</td>\n",
       "      <td>HCC1599</td>\n",
       "      <td>[8.334239608034789, 2.7477031637484997, 10.314...</td>\n",
       "      <td>-3.106684</td>\n",
       "    </tr>\n",
       "    <tr>\n",
       "      <th>...</th>\n",
       "      <td>...</td>\n",
       "      <td>...</td>\n",
       "      <td>...</td>\n",
       "      <td>...</td>\n",
       "      <td>...</td>\n",
       "    </tr>\n",
       "    <tr>\n",
       "      <th>92698</th>\n",
       "      <td>JQ1</td>\n",
       "      <td>CC1=C(SC2=C1C(=N[C@H](C3=NN=C(N32)C)CC(=O)OC(C...</td>\n",
       "      <td>EFM-192A</td>\n",
       "      <td>[7.90969861787306, 3.0665091537456, 11.3513791...</td>\n",
       "      <td>3.576583</td>\n",
       "    </tr>\n",
       "    <tr>\n",
       "      <th>92699</th>\n",
       "      <td>JQ1</td>\n",
       "      <td>CC1=C(SC2=C1C(=N[C@H](C3=NN=C(N32)C)CC(=O)OC(C...</td>\n",
       "      <td>HCC1428</td>\n",
       "      <td>[7.241512102682691, 2.7729214122229098, 9.7214...</td>\n",
       "      <td>1.402466</td>\n",
       "    </tr>\n",
       "    <tr>\n",
       "      <th>92700</th>\n",
       "      <td>JQ1</td>\n",
       "      <td>CC1=C(SC2=C1C(=N[C@H](C3=NN=C(N32)C)CC(=O)OC(C...</td>\n",
       "      <td>HDQ-P1</td>\n",
       "      <td>[8.59362481381391, 2.7654211455101003, 9.91057...</td>\n",
       "      <td>2.762460</td>\n",
       "    </tr>\n",
       "    <tr>\n",
       "      <th>92701</th>\n",
       "      <td>JQ1</td>\n",
       "      <td>CC1=C(SC2=C1C(=N[C@H](C3=NN=C(N32)C)CC(=O)OC(C...</td>\n",
       "      <td>JIMT-1</td>\n",
       "      <td>[8.44162845293353, 2.6392762542455497, 11.4637...</td>\n",
       "      <td>3.442930</td>\n",
       "    </tr>\n",
       "    <tr>\n",
       "      <th>92702</th>\n",
       "      <td>JQ1</td>\n",
       "      <td>CC1=C(SC2=C1C(=N[C@H](C3=NN=C(N32)C)CC(=O)OC(C...</td>\n",
       "      <td>HCC1500</td>\n",
       "      <td>[6.981643244661959, 2.97295856762339, 10.48254...</td>\n",
       "      <td>2.767916</td>\n",
       "    </tr>\n",
       "  </tbody>\n",
       "</table>\n",
       "<p>92703 rows × 5 columns</p>\n",
       "</div>"
      ],
      "text/plain": [
       "            Drug_ID                                               Drug  \\\n",
       "0      Camptothecin  CC[C@@]1(C2=C(COC1=O)C(=O)N3CC4=CC5=CC=CC=C5N=...   \n",
       "1      Camptothecin  CC[C@@]1(C2=C(COC1=O)C(=O)N3CC4=CC5=CC=CC=C5N=...   \n",
       "2      Camptothecin  CC[C@@]1(C2=C(COC1=O)C(=O)N3CC4=CC5=CC=CC=C5N=...   \n",
       "3      Camptothecin  CC[C@@]1(C2=C(COC1=O)C(=O)N3CC4=CC5=CC=CC=C5N=...   \n",
       "4      Camptothecin  CC[C@@]1(C2=C(COC1=O)C(=O)N3CC4=CC5=CC=CC=C5N=...   \n",
       "...             ...                                                ...   \n",
       "92698           JQ1  CC1=C(SC2=C1C(=N[C@H](C3=NN=C(N32)C)CC(=O)OC(C...   \n",
       "92699           JQ1  CC1=C(SC2=C1C(=N[C@H](C3=NN=C(N32)C)CC(=O)OC(C...   \n",
       "92700           JQ1  CC1=C(SC2=C1C(=N[C@H](C3=NN=C(N32)C)CC(=O)OC(C...   \n",
       "92701           JQ1  CC1=C(SC2=C1C(=N[C@H](C3=NN=C(N32)C)CC(=O)OC(C...   \n",
       "92702           JQ1  CC1=C(SC2=C1C(=N[C@H](C3=NN=C(N32)C)CC(=O)OC(C...   \n",
       "\n",
       "      Cell Line_ID                                          Cell Line  \\\n",
       "0          HCC1954  [8.54820830373167, 2.5996072676336297, 10.3759...   \n",
       "1          HCC1143  [7.58193774904993, 2.81430257671695, 10.363326...   \n",
       "2          HCC1187  [9.013252540641961, 2.9520929896608, 9.3474286...   \n",
       "3          HCC1395  [7.4351511634642105, 2.8325700611437004, 10.34...   \n",
       "4          HCC1599  [8.334239608034789, 2.7477031637484997, 10.314...   \n",
       "...            ...                                                ...   \n",
       "92698     EFM-192A  [7.90969861787306, 3.0665091537456, 11.3513791...   \n",
       "92699      HCC1428  [7.241512102682691, 2.7729214122229098, 9.7214...   \n",
       "92700       HDQ-P1  [8.59362481381391, 2.7654211455101003, 9.91057...   \n",
       "92701       JIMT-1  [8.44162845293353, 2.6392762542455497, 11.4637...   \n",
       "92702      HCC1500  [6.981643244661959, 2.97295856762339, 10.48254...   \n",
       "\n",
       "              Y  \n",
       "0     -0.251083  \n",
       "1      1.343315  \n",
       "2      1.736985  \n",
       "3     -2.309078  \n",
       "4     -3.106684  \n",
       "...         ...  \n",
       "92698  3.576583  \n",
       "92699  1.402466  \n",
       "92700  2.762460  \n",
       "92701  3.442930  \n",
       "92702  2.767916  \n",
       "\n",
       "[92703 rows x 5 columns]"
      ]
     },
     "execution_count": 58,
     "metadata": {},
     "output_type": "execute_result"
    }
   ],
   "source": [
    "df"
   ]
  },
  {
   "cell_type": "code",
   "execution_count": 46,
   "metadata": {},
   "outputs": [],
   "source": [
    "pd.DataFrame(dataa).to_csv('celllines_onehot.csv', index=False)"
   ]
  },
  {
   "cell_type": "code",
   "execution_count": 51,
   "metadata": {
    "scrolled": true
   },
   "outputs": [],
   "source": [
    "dataa = MultiLabelBinarizer().fit_transform(np.asanyarray(df['Cell Line_ID'])).reshape(-1,1)"
   ]
  },
  {
   "cell_type": "code",
   "execution_count": 52,
   "metadata": {},
   "outputs": [],
   "source": [
    "cells = dataa"
   ]
  },
  {
   "cell_type": "code",
   "execution_count": 5,
   "metadata": {},
   "outputs": [],
   "source": [
    "cells = np.zeros((len(df['Cell Line']),len(df['Cell Line'].iloc[0])))\n",
    "for i in range(len(df['Cell Line'])):\n",
    "    cells[i] = df['Cell Line'].iloc[i]"
   ]
  },
  {
   "cell_type": "code",
   "execution_count": 54,
   "metadata": {},
   "outputs": [],
   "source": [
    "morgans = pd.read_csv('morgans.csv')"
   ]
  },
  {
   "cell_type": "code",
   "execution_count": 7,
   "metadata": {},
   "outputs": [],
   "source": [
    "morgans = []\n",
    "for i in range(len(df['Drug'])):\n",
    "    ecfp = AllChem.GetMorganFingerprintAsBitVect(MolFromSmiles(df.iloc[i]['Drug']), 3, nBits=512,useFeatures=True,\n",
    "                                             useChirality=True).ToBitString()\n",
    "    ecfp = np.fromstring(ecfp,'u1') - ord('0')\n",
    "    morgans.append(ecfp)"
   ]
  },
  {
   "cell_type": "code",
   "execution_count": 55,
   "metadata": {},
   "outputs": [],
   "source": [
    "y = np.asarray(df['Y'])\n",
    "cells = np.asarray(cells)\n",
    "morgans = np.asarray(morgans)"
   ]
  },
  {
   "cell_type": "code",
   "execution_count": 57,
   "metadata": {
    "scrolled": true
   },
   "outputs": [
    {
     "name": "stdout",
     "output_type": "stream",
     "text": [
      "KFold(n_splits=10, random_state=420, shuffle=True)\n",
      "TRAIN: [    0     1     2 ... 92699 92700 92702] TEST: [   17    29    38 ... 92692 92696 92701]\n",
      "TRAIN: [    0     1     2 ... 92700 92701 92702] TEST: [    7    21    48 ... 92687 92689 92699]\n",
      "TRAIN: [    2     5     6 ... 92700 92701 92702] TEST: [    0     1     3 ... 92679 92688 92698]\n",
      "TRAIN: [    0     1     2 ... 92700 92701 92702] TEST: [   16    22    23 ... 92677 92683 92693]\n",
      "TRAIN: [    0     1     2 ... 92700 92701 92702] TEST: [   19    24    63 ... 92682 92690 92697]\n",
      "TRAIN: [    0     1     3 ... 92700 92701 92702] TEST: [    2     6     8 ... 92674 92675 92684]\n",
      "TRAIN: [    0     1     2 ... 92700 92701 92702] TEST: [    9    11    20 ... 92648 92685 92695]\n",
      "TRAIN: [    0     1     2 ... 92699 92700 92701] TEST: [   10    12    35 ... 92657 92694 92702]\n",
      "TRAIN: [    0     1     2 ... 92699 92701 92702] TEST: [    5    18    28 ... 92665 92672 92700]\n",
      "TRAIN: [    0     1     2 ... 92700 92701 92702] TEST: [   13    15    30 ... 92650 92667 92691]\n"
     ]
    }
   ],
   "source": [
    "kf = KFold(n_splits=10,random_state=420, shuffle=True)\n",
    "kf.get_n_splits(morgans)\n",
    "\n",
    "print(kf)\n",
    "fold = 0\n",
    "for train_index, test_index in kf.split(morgans):\n",
    "    print(\"TRAIN:\", train_index, \"TEST:\", test_index)\n",
    "#     morgan_train, morgan_test = morgans[train_index], morgans[test_index]\n",
    "    cells_train, cells_test = cells[train_index], cells[test_index]\n",
    "#     pca_obj = FastICA(n_components=256).fit(cells_train)\n",
    "#     pcad_cells_train = pca_obj.transform(cells_train)\n",
    "#     pcad_cells_test = pca_obj.transform(cells_test)\n",
    "    y_train, y_test = y[train_index], y[test_index]\n",
    "    \n",
    "#     pd.DataFrame(morgan_train).to_csv('sparse/morgan_'+str(fold)+'_train.csv',index=False)\n",
    "    pd.DataFrame(cells_train).to_csv('default/binarized_cells_'+str(fold)+'_train.csv',index=False)\n",
    "#     pd.DataFrame(y_train).to_csv('sparse/y_train_'+str(fold)+'.csv',index=False)\n",
    "    \n",
    "#     pd.DataFrame(morgan_test).to_csv('sparse/morgan_'+str(fold)+'_test.csv',index=False)\n",
    "    pd.DataFrame(cells_test).to_csv('default/binarized_cells_'+str(fold)+'_test.csv',index=False)\n",
    "#     pd.DataFrame(y_test).to_csv('sparse/y_test_'+str(fold)+'.csv',index=False)\n",
    "    fold = fold + 1\n",
    "    \n"
   ]
  },
  {
   "cell_type": "code",
   "execution_count": null,
   "metadata": {},
   "outputs": [],
   "source": [
    "morgan_train.shape"
   ]
  },
  {
   "cell_type": "code",
   "execution_count": 30,
   "metadata": {},
   "outputs": [
    {
     "name": "stdout",
     "output_type": "stream",
     "text": [
      "[0 0 0 ... 0 0 0]\n"
     ]
    },
    {
     "name": "stderr",
     "output_type": "stream",
     "text": [
      "<ipython-input-30-fad640ecced2>:1: DeprecationWarning: The binary mode of fromstring is deprecated, as it behaves surprisingly on unicode inputs. Use frombuffer instead\n",
      "  print(np.fromstring(ecfp,'u1') - ord('0'))\n"
     ]
    }
   ],
   "source": [
    "print(np.fromstring(ecfp,'u1') - ord('0'))"
   ]
  },
  {
   "cell_type": "code",
   "execution_count": null,
   "metadata": {},
   "outputs": [],
   "source": []
  }
 ],
 "metadata": {
  "kernelspec": {
   "display_name": "Python 3",
   "language": "python",
   "name": "python3"
  },
  "language_info": {
   "codemirror_mode": {
    "name": "ipython",
    "version": 3
   },
   "file_extension": ".py",
   "mimetype": "text/x-python",
   "name": "python",
   "nbconvert_exporter": "python",
   "pygments_lexer": "ipython3",
   "version": "3.8.5"
  }
 },
 "nbformat": 4,
 "nbformat_minor": 4
}
